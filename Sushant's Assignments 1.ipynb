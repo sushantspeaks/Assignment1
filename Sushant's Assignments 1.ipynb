{
 "cells": [
  {
   "cell_type": "markdown",
   "id": "bb9bc6c1",
   "metadata": {},
   "source": [
    "# ** What is 7 to the power of 4?**"
   ]
  },
  {
   "cell_type": "code",
   "execution_count": 5,
   "id": "a429d010",
   "metadata": {},
   "outputs": [
    {
     "data": {
      "text/plain": [
       "2401"
      ]
     },
     "execution_count": 5,
     "metadata": {},
     "output_type": "execute_result"
    }
   ],
   "source": [
    "7**4"
   ]
  },
  {
   "cell_type": "markdown",
   "id": "2de80eff",
   "metadata": {},
   "source": [
    "## ** Split this string:**\n",
    "\n",
    "## s = \"Hi there Yogesh!\"\n",
    "## **into a list. **"
   ]
  },
  {
   "cell_type": "code",
   "execution_count": 6,
   "id": "8a5a4ef7",
   "metadata": {},
   "outputs": [],
   "source": [
    "s=(\"Hi there Yogesh!\")"
   ]
  },
  {
   "cell_type": "code",
   "execution_count": 9,
   "id": "0dca6e67",
   "metadata": {},
   "outputs": [
    {
     "name": "stdout",
     "output_type": "stream",
     "text": [
      "['Hi', 'there', 'Yogesh!']\n"
     ]
    }
   ],
   "source": [
    "list=s.split()\n",
    "print(list)"
   ]
  },
  {
   "cell_type": "markdown",
   "id": "8ac92a80",
   "metadata": {},
   "source": [
    "## ** Given the variables:**\n",
    "## planet = \"Earth\"\n",
    "## diameter = 12742\n",
    "## ** Use .format() to print the following string: **\n",
    "\n",
    "## The diameter of Earth is 12742 kilometers."
   ]
  },
  {
   "cell_type": "code",
   "execution_count": 11,
   "id": "ac3f4f20",
   "metadata": {},
   "outputs": [],
   "source": [
    "planet='Earth'"
   ]
  },
  {
   "cell_type": "code",
   "execution_count": 12,
   "id": "dd391e1d",
   "metadata": {},
   "outputs": [],
   "source": [
    "diameter='12742'"
   ]
  },
  {
   "cell_type": "code",
   "execution_count": 16,
   "id": "102ed26f",
   "metadata": {},
   "outputs": [
    {
     "name": "stdout",
     "output_type": "stream",
     "text": [
      "the diameter of Earth is 12742 kilometers.\n"
     ]
    }
   ],
   "source": [
    "print(\"the diameter of {} is {} kilometers.\".format(planet,diameter))"
   ]
  },
  {
   "cell_type": "markdown",
   "id": "07430688",
   "metadata": {},
   "source": [
    "# Given this nested dictionary grab the word \"hello\". Be prepared, this will be annoying/tricky **"
   ]
  },
  {
   "cell_type": "code",
   "execution_count": 2,
   "id": "2936a1a4",
   "metadata": {},
   "outputs": [],
   "source": [
    "list=[1,2,[3,4],[5,[100,200,['hello']],23,11],1,7]"
   ]
  },
  {
   "cell_type": "code",
   "execution_count": 4,
   "id": "da5e83cd",
   "metadata": {},
   "outputs": [
    {
     "data": {
      "text/plain": [
       "True"
      ]
     },
     "execution_count": 4,
     "metadata": {},
     "output_type": "execute_result"
    }
   ],
   "source": [
    "'hello'==list[3][1][2][0]"
   ]
  },
  {
   "cell_type": "code",
   "execution_count": 5,
   "id": "8b493d53",
   "metadata": {},
   "outputs": [],
   "source": [
    "hello_string=list[3][1][2][0]"
   ]
  },
  {
   "cell_type": "code",
   "execution_count": 6,
   "id": "3d9ae58d",
   "metadata": {},
   "outputs": [
    {
     "name": "stdout",
     "output_type": "stream",
     "text": [
      "hello\n"
     ]
    }
   ],
   "source": [
    "print(hello_string)"
   ]
  },
  {
   "cell_type": "markdown",
   "id": "acbbceac",
   "metadata": {},
   "source": [
    " # ** Given this nested dictionary grab the word \"hello\". "
   ]
  },
  {
   "cell_type": "code",
   "execution_count": 8,
   "id": "e6926fc0",
   "metadata": {},
   "outputs": [],
   "source": [
    "d = {'k1':[1,2,3,{'tricky':['oh','man','inception',\n",
    "                            {'target':[1,2,3,'hello']}]}]}"
   ]
  },
  {
   "cell_type": "code",
   "execution_count": 11,
   "id": "7f505cf3",
   "metadata": {},
   "outputs": [],
   "source": [
    "hello_string=d['k1'][3]['tricky'][3]['target'][3]"
   ]
  },
  {
   "cell_type": "code",
   "execution_count": 12,
   "id": "f645bc6c",
   "metadata": {},
   "outputs": [
    {
     "name": "stdout",
     "output_type": "stream",
     "text": [
      "hello\n"
     ]
    }
   ],
   "source": [
    "print(hello_string)"
   ]
  },
  {
   "cell_type": "markdown",
   "id": "afcdc6c9",
   "metadata": {},
   "source": [
    "# ** What is the main difference between a tuple and a list? **"
   ]
  },
  {
   "cell_type": "code",
   "execution_count": 1,
   "id": "1a8df4b6",
   "metadata": {},
   "outputs": [],
   "source": [
    "# tuple is used where the content is fixed.\n",
    "# List can be edited,contents can be added, tuple cannot be edited.\n"
   ]
  },
  {
   "cell_type": "markdown",
   "id": "109c9f8a",
   "metadata": {},
   "source": [
    "## ** Create a function that grabs the email website domain from a string in the form: **"
   ]
  },
  {
   "cell_type": "code",
   "execution_count": 4,
   "id": "e3638f98",
   "metadata": {},
   "outputs": [],
   "source": [
    "m=[\"user@gmail.com\"]"
   ]
  },
  {
   "cell_type": "code",
   "execution_count": 8,
   "id": "f9323ffa",
   "metadata": {},
   "outputs": [],
   "source": [
    "def extract_domain(m):\n",
    "    domain= m.split('@')[-1]\n",
    "    return domain"
   ]
  },
  {
   "cell_type": "code",
   "execution_count": 12,
   "id": "c767f1b7",
   "metadata": {},
   "outputs": [],
   "source": [
    "domain=extract_domain('m')"
   ]
  },
  {
   "cell_type": "code",
   "execution_count": 15,
   "id": "2e16afd2",
   "metadata": {},
   "outputs": [
    {
     "name": "stdout",
     "output_type": "stream",
     "text": [
      "\n"
     ]
    }
   ],
   "source": [
    "print()"
   ]
  },
  {
   "cell_type": "markdown",
   "id": "e98c0887",
   "metadata": {},
   "source": [
    "### ** Create a basic function that returns True if the word 'dog' is contained in the input string.\n",
    "### Don't worry about edge cases like a punctuation being attached to the word dog, but do account for capitalization. **"
   ]
  },
  {
   "cell_type": "code",
   "execution_count": 16,
   "id": "47294c2f",
   "metadata": {},
   "outputs": [],
   "source": [
    "list=['cat','dog','elephant','tiger']"
   ]
  },
  {
   "cell_type": "code",
   "execution_count": 17,
   "id": "41758d52",
   "metadata": {},
   "outputs": [],
   "source": [
    "result='dog'in list"
   ]
  },
  {
   "cell_type": "code",
   "execution_count": 18,
   "id": "75437a29",
   "metadata": {},
   "outputs": [
    {
     "name": "stdout",
     "output_type": "stream",
     "text": [
      "True\n"
     ]
    }
   ],
   "source": [
    "print (result)"
   ]
  },
  {
   "cell_type": "markdown",
   "id": "5dd0f3ee",
   "metadata": {},
   "source": [
    "### Create a function that counts the number of times the word \"dog\" occurs in a string. Again ignore edge cases."
   ]
  },
  {
   "cell_type": "code",
   "execution_count": 20,
   "id": "47423cd3",
   "metadata": {},
   "outputs": [],
   "source": [
    "que=('This dog runs faster than the other dog dude!')"
   ]
  },
  {
   "cell_type": "code",
   "execution_count": 23,
   "id": "b4f93520",
   "metadata": {},
   "outputs": [],
   "source": [
    "def countdog(que):\n",
    "    count=que.count('dog')\n",
    "    return count"
   ]
  },
  {
   "cell_type": "code",
   "execution_count": 34,
   "id": "1ce643aa",
   "metadata": {},
   "outputs": [
    {
     "name": "stdout",
     "output_type": "stream",
     "text": [
      "number of count of 'dog' <function countdog at 0x000001F320CADBC0>\n"
     ]
    }
   ],
   "source": [
    "print(\"number of count of 'dog'\",countdog)"
   ]
  },
  {
   "cell_type": "markdown",
   "id": "068aeaad",
   "metadata": {},
   "source": [
    "### Use lambda expressions and the filter() function to filter out words from a list that don't start with the letter 's'."
   ]
  },
  {
   "cell_type": "code",
   "execution_count": 36,
   "id": "d2f9200b",
   "metadata": {},
   "outputs": [],
   "source": [
    "seq = ['soup','dog','salad','cat','great']"
   ]
  },
  {
   "cell_type": "code",
   "execution_count": 41,
   "id": "5470d6b9",
   "metadata": {},
   "outputs": [],
   "source": [
    "filtered_words=filter(lambda word:word.startwith('s'),seq)"
   ]
  },
  {
   "cell_type": "code",
   "execution_count": 42,
   "id": "eb4d3010",
   "metadata": {},
   "outputs": [
    {
     "name": "stdout",
     "output_type": "stream",
     "text": [
      "<filter object at 0x000001F3201A0220>\n"
     ]
    }
   ],
   "source": [
    "print(filtered_words)"
   ]
  },
  {
   "cell_type": "code",
   "execution_count": null,
   "id": "d8e3bd67",
   "metadata": {},
   "outputs": [],
   "source": []
  }
 ],
 "metadata": {
  "kernelspec": {
   "display_name": "Python 3 (ipykernel)",
   "language": "python",
   "name": "python3"
  },
  "language_info": {
   "codemirror_mode": {
    "name": "ipython",
    "version": 3
   },
   "file_extension": ".py",
   "mimetype": "text/x-python",
   "name": "python",
   "nbconvert_exporter": "python",
   "pygments_lexer": "ipython3",
   "version": "3.11.5"
  }
 },
 "nbformat": 4,
 "nbformat_minor": 5
}
